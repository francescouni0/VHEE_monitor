{
 "cells": [
  {
   "cell_type": "markdown",
   "metadata": {},
   "source": [
    "**ANALISI VHEE MONITOR**\n",
    "Note to self: let's try to keep it celan, readable and reproducible"
   ]
  },
  {
   "cell_type": "markdown",
   "metadata": {},
   "source": [
    "**READ THE OUTPUT**"
   ]
  },
  {
   "cell_type": "code",
   "execution_count": 1,
   "metadata": {},
   "outputs": [
    {
     "ename": "ModuleNotFoundError",
     "evalue": "No module named 'hyperspy'",
     "output_type": "error",
     "traceback": [
      "\u001b[0;31m---------------------------------------------------------------------------\u001b[0m",
      "\u001b[0;31mModuleNotFoundError\u001b[0m                       Traceback (most recent call last)",
      "Cell \u001b[0;32mIn [1], line 6\u001b[0m\n\u001b[1;32m      4\u001b[0m \u001b[38;5;28;01mimport\u001b[39;00m \u001b[38;5;21;01mmatplotlib\u001b[39;00m\u001b[38;5;21;01m.\u001b[39;00m\u001b[38;5;21;01mpyplot\u001b[39;00m \u001b[38;5;28;01mas\u001b[39;00m \u001b[38;5;21;01mplt\u001b[39;00m\n\u001b[1;32m      5\u001b[0m \u001b[38;5;28;01mimport\u001b[39;00m \u001b[38;5;21;01mseaborn\u001b[39;00m \u001b[38;5;28;01mas\u001b[39;00m \u001b[38;5;21;01msns\u001b[39;00m\n\u001b[0;32m----> 6\u001b[0m \u001b[38;5;28;01mimport\u001b[39;00m \u001b[38;5;21;01mhyperspy\u001b[39;00m\u001b[38;5;21;01m.\u001b[39;00m\u001b[38;5;21;01mapi\u001b[39;00m \u001b[38;5;28;01mas\u001b[39;00m \u001b[38;5;21;01mhs\u001b[39;00m\n\u001b[1;32m      8\u001b[0m \u001b[38;5;66;03m# Module with scientific computing functions (matrix/vector)\u001b[39;00m\n\u001b[1;32m      9\u001b[0m \u001b[38;5;28;01mimport\u001b[39;00m \u001b[38;5;21;01mnumpy\u001b[39;00m \u001b[38;5;28;01mas\u001b[39;00m \u001b[38;5;21;01mnp\u001b[39;00m                \n",
      "\u001b[0;31mModuleNotFoundError\u001b[0m: No module named 'hyperspy'"
     ]
    }
   ],
   "source": [
    "# Tell Jupyter to plot figure right in the page\n",
    "\n",
    "# Module with plot capabilities\n",
    "import matplotlib.pyplot as plt\n",
    "import seaborn as sns\n",
    "import hyperspy.api as hs\n",
    "\n",
    "# Module with scientific computing functions (matrix/vector)\n",
    "import numpy as np                \n",
    "\n",
    "# Modules with reading/write folder/file functions\n",
    "import os\n",
    "from pathlib import Path\n",
    "\n",
    "# module to deal with images\n",
    "import uproot\n",
    "\n",
    "# The following command display the current working directory (where jupyter has been launched)\n",
    "cwd = os.getcwd()\n",
    "print('The Current Working Directory (CWD) is: \\n', cwd)\n",
    "folder = Path()\n",
    "\n",
    "# Display the content of a folder\n",
    "output_folder = Path('./output')\n",
    "if not output_folder.is_dir():\n",
    "    print('ERROR: {} is not a folder.'.format(output_folder))\n",
    "else:\n",
    "    print('The folder and contains the following files:'.format(output_folder))\n",
    "    p = output_folder.glob('**/*')\n",
    "    files = [x for x in p if x.is_file()]\n",
    "    for x in files:\n",
    "        print(x)"
   ]
  },
  {
   "cell_type": "markdown",
   "metadata": {},
   "source": [
    "**DEFINE DOSE VARIABLES**"
   ]
  },
  {
   "cell_type": "code",
   "execution_count": null,
   "metadata": {},
   "outputs": [],
   "source": [
    "# Set the filenames (d = depth, p = profile)\n",
    "f_d_edep = output_folder / 'dose3d_dose.mhd'\n",
    "f_d_uncert = output_folder / 'dose3d_edep_uncertainty.mhd'\n",
    "f_p_edep = output_folder / 'doselat_edep.mhd'\n",
    "f_p_uncert = output_folder / 'doselat_edep_uncertainty.mhd'\n"
   ]
  },
  {
   "cell_type": "markdown",
   "metadata": {},
   "source": [
    "**1D DOSE PLOT from 3D**"
   ]
  },
  {
   "cell_type": "code",
   "execution_count": null,
   "metadata": {},
   "outputs": [],
   "source": [
    "filename = os.path.join(folder, './output/dose3d_dose.mhd')\n",
    "img_dose = sitk.ReadImage(filename)\n",
    "print('Dose itk image size: ', img_dose.GetSize())\n",
    "print('Dose itk image spacing: ', img_dose.GetSpacing())\n",
    "print('Dose itk image origin: ', img_dose.GetOrigin())\n",
    "# convert to np array for easier manipulation\n",
    "# WARNING : the axis are modified, XYZ -> ZXY\n",
    "arr_dose = sitk.GetArrayFromImage(img_dose)\n",
    "#get normal axes\n",
    "print('Dose np image size = ', arr_dose.shape)\n",
    "print('Dose np image min and max: ',  np.amin(arr_dose), np.amax(arr_dose))\n"
   ]
  },
  {
   "cell_type": "code",
   "execution_count": null,
   "metadata": {},
   "outputs": [],
   "source": [
    "# multiply the image because to avoid rounding issues\n",
    "#filter = sitk.MultiplyImageFilter()\n",
    "#img_dose = filter.Execute(img_dose, 1e9)\n",
    "#arr_dose = sitk.GetArrayFromImage(img_dose)\n",
    "#print('Dose np image min and max: ',  np.amin(arr_dose), np.amax(arr_dose))\n",
    "# now we rescale the intensity between 0 and 1 (normalization)\n",
    "filter = sitk.RescaleIntensityImageFilter()\n",
    "filter.SetOutputMaximum(1.0)\n",
    "filter.SetOutputMinimum(0.0)\n",
    "img_dose = filter.Execute(img_dose)\n",
    "arr_dose = sitk.GetArrayFromImage(img_dose)\n",
    "print('Dose np image min and max: ',  np.amin(arr_dose), np.amax(arr_dose))"
   ]
  },
  {
   "cell_type": "markdown",
   "metadata": {},
   "source": [
    "**MIDDLE SLICE**"
   ]
  },
  {
   "cell_type": "code",
   "execution_count": null,
   "metadata": {},
   "outputs": [],
   "source": [
    "# Display the middle slice of the img_dose image\n",
    "arr_dose_mid= arr_dose[:, 50, :]\n",
    "arr_dose_mid = np.moveaxis(arr_dose_mid, 0, -1)\n",
    "arr_dose_mid = arr_dose_mid[:,:]\n",
    "\n",
    "# Plot the slice\n",
    "plt.figure(figsize=(10, 8))\n",
    "plt.imshow(arr_dose_mid, cmap='jet')\n",
    "plt.title('Middle Slice of img_dose')\n",
    "plt.colorbar()\n",
    "plt.show()\n",
    "\n",
    "\n"
   ]
  },
  {
   "cell_type": "code",
   "execution_count": null,
   "metadata": {},
   "outputs": [],
   "source": [
    "# Declare a figure\n",
    "fig3, ax3 = plt.subplots()\n",
    "\n",
    "# mean the dose along a given dimension (depth)\n",
    "moy_dose=np.zeros(arr_dose.shape[0])\n",
    "for i in range(arr_dose.shape[0]):\n",
    "    subarr_dose=arr_dose[i,:,:]\n",
    "    moy_dose[i]=np.sum(subarr_dose)\n",
    "\n",
    "# X values from 0 to n\n",
    "# n is the number of slices\n",
    "n = arr_dose.shape[0]\n",
    "x = np.linspace(0, n, n)\n",
    "\n",
    "c1 = ax3.plot(x, moy_dose, 'k.-', label='deposited dose', linewidth=1)\n",
    "\n",
    "# Add legends to the plot\n",
    "ax3.legend(loc='upper left')\n"
   ]
  },
  {
   "cell_type": "markdown",
   "metadata": {},
   "source": [
    "**PROJECTION**\n"
   ]
  },
  {
   "cell_type": "code",
   "execution_count": null,
   "metadata": {},
   "outputs": [],
   "source": [
    "arr_dose_proj= np.sum(arr_dose,axis=1)\n",
    "arr_dose_proj = np.moveaxis(arr_dose_proj, 0, -1)\n",
    "\n",
    "# Plot the slice\n",
    "plt.figure(figsize=(10, 8))\n",
    "plt.imshow(arr_dose_proj, cmap='jet')\n",
    "plt.title('Middle Slice of img_dose')\n",
    "plt.colorbar()\n",
    "plt.show()\n",
    "\n"
   ]
  },
  {
   "cell_type": "code",
   "execution_count": null,
   "metadata": {},
   "outputs": [],
   "source": [
    "# Declare a figure\n",
    "fig3, ax3 = plt.subplots(figsize=(15, 5))\n",
    "\n",
    "# mean the dose along a given dimension (depth)\n",
    "moy_dose=np.sum(arr_dose_proj,axis=0)\n",
    "moy_dose = moy_dose/np.max(moy_dose)*100\n",
    "\n",
    "# X values from 0 to n\n",
    "# n is the number of slices\n",
    "n = arr_dose_proj.shape[1]\n",
    "x = np.linspace(0, n, n)\n",
    "\n",
    "c1 = ax3.plot(x, moy_dose, 'k.-', label='deposited dose', linewidth=1)\n",
    "\n",
    "# Add legends to the plot\n",
    "ax3.legend(loc='upper left')"
   ]
  },
  {
   "cell_type": "markdown",
   "metadata": {},
   "source": [
    "**HITS ANALYSIS**"
   ]
  },
  {
   "cell_type": "code",
   "execution_count": null,
   "metadata": {},
   "outputs": [],
   "source": [
    "f = uproot.open('collires/spect.root')\n",
    "print(\"List of tree : \\n\", f.keys())\n",
    "hits = f['Hits_crystal']\n",
    "print('Number of hits:', hits.num_entries)\n",
    "print('Hits keys: ')\n",
    "for i in hits.keys():\n",
    "    print(i, ' ', end='')"
   ]
  },
  {
   "cell_type": "code",
   "execution_count": null,
   "metadata": {},
   "outputs": [],
   "source": [
    "hits_y = np.array(hits.arrays()['PostPosition_Y'])\n",
    "hits_z = np.array(hits.arrays()['PostPosition_Z'])\n",
    "hits_x = np.array(hits.arrays()['PostPosition_X'])\n",
    "preKinEnergy = np.array(hits.arrays()['PreKineticEnergy'])  \n",
    "\n",
    "preKinEnergy_enwin = np.logical_and(preKinEnergy > 0, preKinEnergy > 2)\n",
    "\n",
    "hits_y_enwin = hits_y[preKinEnergy_enwin]\n",
    "hits_z_enwin = hits_z[preKinEnergy_enwin]\n",
    "plt.figure(figsize=(10, 10))\n",
    "plt.scatter(x=hits_z, y=hits_y,c=preKinEnergy_enwin, cmap='viridis')\n",
    "plt.xlim(-15, 15)\n",
    "plt.ylim(-15, 15)\n",
    "plt.title('Scatter Plot of Hits')\n",
    "plt.colorbar()  \n",
    "plt.show()\n",
    "\n",
    "# KDE plot\n",
    "plt.figure(figsize=(10, 10))\n",
    "sns.kdeplot(x=hits_z, y=hits_y, fill=True, cmap='viridis',levels=50,thresh=0)\n",
    "plt.xlim(-15, 15)\n",
    "plt.ylim(-15, 15)\n",
    "plt.title('KDE Plot of Hits')\n",
    "plt.show()\n",
    "\n",
    "plt.figure(figsize=(10, 10))\n",
    "\n",
    "sns.regplot(x=hits_z, y=hits_y, x_bins=100, fit_reg=None, scatter_kws={'s':1})\n",
    "plt.show()\n",
    "\n"
   ]
  },
  {
   "cell_type": "code",
   "execution_count": null,
   "metadata": {},
   "outputs": [],
   "source": [
    "plt.hist(preKinEnergy, bins=100,range=(0,1))\n",
    "plt.show()"
   ]
  },
  {
   "cell_type": "code",
   "execution_count": null,
   "metadata": {},
   "outputs": [],
   "source": [
    "hits_edep= np.array(hits.arrays()['TotalEnergyDeposit'])\n",
    "\n",
    "plt.hist(hits_edep, bins=100,range=(0,0.2))\n",
    "plt.show()\n"
   ]
  }
 ],
 "metadata": {
  "kernelspec": {
   "display_name": "Python 3",
   "language": "python",
   "name": "python3"
  },
  "language_info": {
   "codemirror_mode": {
    "name": "ipython",
    "version": 3
   },
   "file_extension": ".py",
   "mimetype": "text/x-python",
   "name": "python",
   "nbconvert_exporter": "python",
   "pygments_lexer": "ipython3",
   "version": "3.11.4"
  }
 },
 "nbformat": 4,
 "nbformat_minor": 2
}
